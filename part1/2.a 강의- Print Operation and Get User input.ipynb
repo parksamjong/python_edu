{
 "cells": [
  {
   "cell_type": "markdown",
   "metadata": {},
   "source": [
    "# PYTHON PROGRAMMING 기초\n",
    "## PRINT AND GET USER INPUT  "
   ]
  },
  {
   "cell_type": "markdown",
   "metadata": {},
   "source": [
    "# PRINT 함수\n",
    "- print() 함수는, 화면에 출력하는 함수다."
   ]
  },
  {
   "cell_type": "code",
   "execution_count": 1,
   "metadata": {},
   "outputs": [],
   "source": [
    "x = \"Welcome to this python course\"\n",
    "y = \"즐겁게 배웁시다.\""
   ]
  },
  {
   "cell_type": "code",
   "execution_count": 2,
   "metadata": {},
   "outputs": [
    {
     "name": "stdout",
     "output_type": "stream",
     "text": [
      "Welcome to this python course\n"
     ]
    }
   ],
   "source": [
    "print(x)"
   ]
  },
  {
   "cell_type": "code",
   "execution_count": 2,
   "metadata": {},
   "outputs": [
    {
     "name": "stdout",
     "output_type": "stream",
     "text": [
      "즐겁게 배웁시다.\n"
     ]
    }
   ],
   "source": [
    "print(y)"
   ]
  },
  {
   "cell_type": "code",
   "execution_count": 3,
   "metadata": {},
   "outputs": [],
   "source": [
    "name = \"홍길동\""
   ]
  },
  {
   "cell_type": "markdown",
   "metadata": {},
   "source": [
    "* String format 함수"
   ]
  },
  {
   "cell_type": "code",
   "execution_count": 4,
   "metadata": {},
   "outputs": [
    {
     "name": "stdout",
     "output_type": "stream",
     "text": [
      "제 이름은 홍길동 입니다. 나이는 10 살입니다.\n"
     ]
    }
   ],
   "source": [
    "print('제 이름은 {} 입니다. 나이는 {} 살입니다.'.format(name, 10))"
   ]
  },
  {
   "cell_type": "code",
   "execution_count": 7,
   "metadata": {},
   "outputs": [
    {
     "name": "stdout",
     "output_type": "stream",
     "text": [
      "홍길동님 환영합니다.\n"
     ]
    }
   ],
   "source": [
    "print(\"{}님 환영합니다.\".format(name))"
   ]
  },
  {
   "cell_type": "code",
   "execution_count": 8,
   "metadata": {},
   "outputs": [],
   "source": [
    "age = 23"
   ]
  },
  {
   "cell_type": "code",
   "execution_count": 13,
   "metadata": {},
   "outputs": [
    {
     "name": "stdout",
     "output_type": "stream",
     "text": [
      "제 이름은 홍길동 입니다. 나이는 23 살입니다.\n"
     ]
    }
   ],
   "source": [
    "print(\"제 이름은 {} 입니다. 나이는 {} 살입니다.\".format(name, age))"
   ]
  },
  {
   "cell_type": "code",
   "execution_count": 15,
   "metadata": {},
   "outputs": [
    {
     "name": "stdout",
     "output_type": "stream",
     "text": [
      "제 이름은 23 입니다. 나이는 홍길동 살입니다.\n"
     ]
    }
   ],
   "source": [
    "print(\"제 이름은 {1} 입니다. 나이는 {0} 살입니다.\".format(name, age))"
   ]
  },
  {
   "cell_type": "code",
   "execution_count": 11,
   "metadata": {},
   "outputs": [
    {
     "name": "stdout",
     "output_type": "stream",
     "text": [
      "원주율은 = 3.14\n"
     ]
    }
   ],
   "source": [
    "print(\"원주율은 = {}\".format(3.14))"
   ]
  },
  {
   "cell_type": "markdown",
   "metadata": {},
   "source": [
    "# USER INPUT - 사용자에게서 직접 입력을 받는 경우\n",
    "- input 함수는, 유저한테서 직접 입력을 받는다."
   ]
  },
  {
   "cell_type": "code",
   "execution_count": 21,
   "metadata": {},
   "outputs": [
    {
     "name": "stdout",
     "output_type": "stream",
     "text": [
      "What's your name:홍길동\n"
     ]
    }
   ],
   "source": [
    "name = input(\"What's your name:\")"
   ]
  },
  {
   "cell_type": "code",
   "execution_count": 22,
   "metadata": {},
   "outputs": [
    {
     "name": "stdout",
     "output_type": "stream",
     "text": [
      "Hello 홍길동\n"
     ]
    }
   ],
   "source": [
    "print('Hello', name)"
   ]
  },
  {
   "cell_type": "code",
   "execution_count": 15,
   "metadata": {},
   "outputs": [
    {
     "name": "stdout",
     "output_type": "stream",
     "text": [
      "Enter your name: harry\n",
      "Enter your age: 20\n",
      "Enter your address: songdo\n",
      "My name is harry, I am 20 years old, and I live at songdo\n"
     ]
    }
   ],
   "source": [
    "name = input(\"Enter your name: \")\n",
    "age = input(\"Enter your age: \")\n",
    "address = input(\"Enter your address: \")\n",
    "print(\"My name is {}, I am {} years old, and I live at {}\".format(name, age, address))"
   ]
  },
  {
   "cell_type": "code",
   "execution_count": 16,
   "metadata": {},
   "outputs": [
    {
     "name": "stdout",
     "output_type": "stream",
     "text": [
      "Enter an integer: 3\n",
      "Enter a second integer: 4\n",
      "The sum of 3 and 4 is 34\n"
     ]
    }
   ],
   "source": [
    "a = input(\"Enter an integer: \")\n",
    "b = input(\"Enter a second integer: \")\n",
    "print('The sum of {} and {} is {}'.format(a, b, a+b)) "
   ]
  },
  {
   "cell_type": "code",
   "execution_count": 27,
   "metadata": {},
   "outputs": [
    {
     "name": "stdout",
     "output_type": "stream",
     "text": [
      "Enter an integer: 3\n"
     ]
    }
   ],
   "source": [
    "num = input(\"Enter an integer: \")"
   ]
  },
  {
   "cell_type": "code",
   "execution_count": 29,
   "metadata": {},
   "outputs": [
    {
     "data": {
      "text/plain": [
       "'3'"
      ]
     },
     "execution_count": 29,
     "metadata": {},
     "output_type": "execute_result"
    }
   ],
   "source": [
    "num"
   ]
  },
  {
   "cell_type": "code",
   "execution_count": 28,
   "metadata": {},
   "outputs": [
    {
     "data": {
      "text/plain": [
       "str"
      ]
     },
     "execution_count": 28,
     "metadata": {},
     "output_type": "execute_result"
    }
   ],
   "source": [
    "type(num)"
   ]
  },
  {
   "cell_type": "markdown",
   "metadata": {},
   "source": [
    "## 형변환 \n",
    "- '3' 은 숫자가 아니다. 따라서 숫자로 바꿔줘야 한다.\n",
    "- 기본데이터타입은 총 3개\n",
    "- 바꾸는 방법은? int(), float(), str()"
   ]
  },
  {
   "cell_type": "code",
   "execution_count": 31,
   "metadata": {},
   "outputs": [
    {
     "name": "stdout",
     "output_type": "stream",
     "text": [
      "Enter an integer: 1\n",
      "Enter a second integer: 2\n",
      "The sum of 1 and 2 is 3\n"
     ]
    }
   ],
   "source": [
    "# 문자열을 정수형으로 형변환 한다.\n",
    "a_str = input(\"Enter an integer: \")\n",
    "a_int = int(a_str)\n",
    "b_str = input(\"Enter a second integer: \")\n",
    "b_int = int(b_str)\n",
    "print('The sum of {} and {} is {}'.format(a_int, b_int, a_int + b_int)) "
   ]
  },
  {
   "cell_type": "code",
   "execution_count": null,
   "metadata": {},
   "outputs": [],
   "source": []
  }
 ],
 "metadata": {
  "kernelspec": {
   "display_name": "Python 3",
   "language": "python",
   "name": "python3"
  },
  "language_info": {
   "codemirror_mode": {
    "name": "ipython",
    "version": 3
   },
   "file_extension": ".py",
   "mimetype": "text/x-python",
   "name": "python",
   "nbconvert_exporter": "python",
   "pygments_lexer": "ipython3",
   "version": "3.7.1"
  }
 },
 "nbformat": 4,
 "nbformat_minor": 2
}
